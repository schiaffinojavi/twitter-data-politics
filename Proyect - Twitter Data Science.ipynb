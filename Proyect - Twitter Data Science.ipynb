{
 "cells": [
  {
   "cell_type": "code",
   "execution_count": 1,
   "metadata": {
    "collapsed": true
   },
   "outputs": [],
   "source": [
    "# import tweepy\n",
    "\n",
    "import tweepy\n",
    "from collections import defaultdict\n",
    "import pandas as pd\n",
    "\n",
    "from wordcloud import WordCloud\n",
    "import matplotlib.pyplot as plt\n",
    "\n",
    "from collections import Counter\n",
    "\n",
    "LABOUR_HASHTAG = '#Labour'\n",
    "TORY_HASHTAG = '#Tories'"
   ]
  },
  {
   "cell_type": "code",
   "execution_count": 2,
   "metadata": {
    "collapsed": true
   },
   "outputs": [],
   "source": [
    "keys = []\n",
    "with open('twitter_keys.txt') as f:\n",
    "    for line in f:\n",
    "        keys.append(line.rstrip())\n",
    "\n",
    "consumer_key = keys[0]\n",
    "consumer_secret = keys[1]\n",
    "\n",
    "access_token = keys[2]\n",
    "access_token_secret = keys[3]\n",
    "\n",
    "\n",
    "\n",
    "auth = tweepy.OAuthHandler(consumer_key, consumer_secret)\n",
    "auth.set_access_token(access_token, access_token_secret)\n",
    "\n",
    "api = tweepy.API(auth)\n",
    "\n"
   ]
  },
  {
   "cell_type": "code",
   "execution_count": 3,
   "metadata": {
    "collapsed": true
   },
   "outputs": [],
   "source": [
    "def get_api():\n",
    "    #uncomment to use user auth instead of app auth\n",
    "    auth = tweepy.OAuthHandler(consumer_key, consumer_secret)\n",
    "    auth.set_access_token(access_token, access_token_secret)\n",
    "    #auth = tweepy.AppAuthHandler(CONSUMER_KEY, CONSUMER_SECRET)\n",
    "    \n",
    "    return tweepy.API(auth, wait_on_rate_limit=True, wait_on_rate_limit_notify=True, retry_count=5, retry_delay=2*60)"
   ]
  },
  {
   "cell_type": "code",
   "execution_count": null,
   "metadata": {
    "collapsed": true
   },
   "outputs": [],
   "source": [
    "def get_hashtag_tweets(api, hashtags):\n",
    "    hashtag_tweets = defaultdict(list)\n",
    "    for hashtag in hashtags:\n",
    "        for tweet in tweepy.Cursor(api.search, hashtag).items(2000):\n",
    "            hashtag_tweets[hashtag].append(tweet)\n",
    "    \n",
    "        print(\"Got %i tweets for hashtag %s\" % (len(hashtag_tweets[hashtag]), hashtag))\n",
    "        print('First tweet is', hashtag_tweets[hashtag][0])\n",
    "    return hashtag_tweets"
   ]
  },
  {
   "cell_type": "code",
   "execution_count": null,
   "metadata": {
    "collapsed": true
   },
   "outputs": [],
   "source": []
  },
  {
   "cell_type": "code",
   "execution_count": null,
   "metadata": {},
   "outputs": [
    {
     "name": "stdout",
     "output_type": "stream",
     "text": [
      "Got 2000 tweets for hashtag #Labour\n",
      "First tweet is Status(_api=<tweepy.api.API object at 0x11a3ee438>, _json={'created_at': 'Fri Jul 07 13:38:49 +0000 2017', 'id': 883319395249905665, 'id_str': '883319395249905665', 'text': 'Poor ole daily mail love negative story to attack anti Tory or extreme right. Lets hope #Labour pull together to kn… https://t.co/uGY3548tMc', 'truncated': True, 'entities': {'hashtags': [{'text': 'Labour', 'indices': [88, 95]}], 'symbols': [], 'user_mentions': [], 'urls': [{'url': 'https://t.co/uGY3548tMc', 'expanded_url': 'https://twitter.com/i/web/status/883319395249905665', 'display_url': 'twitter.com/i/web/status/8…', 'indices': [117, 140]}]}, 'metadata': {'iso_language_code': 'en', 'result_type': 'recent'}, 'source': '<a href=\"https://mobile.twitter.com\" rel=\"nofollow\">Twitter Lite</a>', 'in_reply_to_status_id': None, 'in_reply_to_status_id_str': None, 'in_reply_to_user_id': None, 'in_reply_to_user_id_str': None, 'in_reply_to_screen_name': None, 'user': {'id': 3515286077, 'id_str': '3515286077', 'name': 'Muddle brick', 'screen_name': 'Muddlebrick', 'location': 'Devon, England', 'description': 'Positivity cancels negativity?  So we can be encouraged to build a better future.', 'url': None, 'entities': {'description': {'urls': []}}, 'protected': False, 'followers_count': 409, 'friends_count': 1648, 'listed_count': 20, 'created_at': 'Tue Sep 01 18:47:35 +0000 2015', 'favourites_count': 20, 'utc_offset': None, 'time_zone': None, 'geo_enabled': False, 'verified': False, 'statuses_count': 8506, 'lang': 'en-gb', 'contributors_enabled': False, 'is_translator': False, 'is_translation_enabled': False, 'profile_background_color': '000000', 'profile_background_image_url': 'http://abs.twimg.com/images/themes/theme1/bg.png', 'profile_background_image_url_https': 'https://abs.twimg.com/images/themes/theme1/bg.png', 'profile_background_tile': False, 'profile_image_url': 'http://abs.twimg.com/sticky/default_profile_images/default_profile_normal.png', 'profile_image_url_https': 'https://abs.twimg.com/sticky/default_profile_images/default_profile_normal.png', 'profile_link_color': 'E81C4F', 'profile_sidebar_border_color': '000000', 'profile_sidebar_fill_color': '000000', 'profile_text_color': '000000', 'profile_use_background_image': False, 'has_extended_profile': True, 'default_profile': False, 'default_profile_image': True, 'following': False, 'follow_request_sent': False, 'notifications': False, 'translator_type': 'none'}, 'geo': None, 'coordinates': None, 'place': None, 'contributors': None, 'is_quote_status': True, 'quoted_status_id': 883317889578790913, 'quoted_status_id_str': '883317889578790913', 'quoted_status': {'created_at': 'Fri Jul 07 13:32:50 +0000 2017', 'id': 883317889578790913, 'id_str': '883317889578790913', 'text': \"Hard-left's 'hit list' of Labour MPs critical of Corbyn https://t.co/EixIPJInpB\", 'truncated': False, 'entities': {'hashtags': [], 'symbols': [], 'user_mentions': [], 'urls': [{'url': 'https://t.co/EixIPJInpB', 'expanded_url': 'http://dailym.ai/2uQTxLt', 'display_url': 'dailym.ai/2uQTxLt', 'indices': [56, 79]}]}, 'metadata': {'iso_language_code': 'en', 'result_type': 'recent'}, 'source': '<a href=\"http://twitter.com\" rel=\"nofollow\">Twitter Web Client</a>', 'in_reply_to_status_id': None, 'in_reply_to_status_id_str': None, 'in_reply_to_user_id': None, 'in_reply_to_user_id_str': None, 'in_reply_to_screen_name': None, 'user': {'id': 61144740, 'id_str': '61144740', 'name': 'J-P. Janson De Couët', 'screen_name': 'jpjanson', 'location': 'Sheffield, England', 'description': 'Corbynista in Sheffield. RTs ≠ endorsement.', 'url': 'https://t.co/kZaVFaUTPV', 'entities': {'url': {'urls': [{'url': 'https://t.co/kZaVFaUTPV', 'expanded_url': 'https://youtu.be/gudJgbvBnmo', 'display_url': 'youtu.be/gudJgbvBnmo', 'indices': [0, 23]}]}, 'description': {'urls': []}}, 'protected': False, 'followers_count': 3724, 'friends_count': 2575, 'listed_count': 248, 'created_at': 'Wed Jul 29 08:00:37 +0000 2009', 'favourites_count': 68300, 'utc_offset': -25200, 'time_zone': 'Pacific Time (US & Canada)', 'geo_enabled': True, 'verified': False, 'statuses_count': 393220, 'lang': 'en', 'contributors_enabled': False, 'is_translator': False, 'is_translation_enabled': False, 'profile_background_color': '19CF86', 'profile_background_image_url': 'http://pbs.twimg.com/profile_background_images/725780923086692352/y8cpY4Mn.jpg', 'profile_background_image_url_https': 'https://pbs.twimg.com/profile_background_images/725780923086692352/y8cpY4Mn.jpg', 'profile_background_tile': False, 'profile_image_url': 'http://pbs.twimg.com/profile_images/872128476593172481/1JbJA3-H_normal.jpg', 'profile_image_url_https': 'https://pbs.twimg.com/profile_images/872128476593172481/1JbJA3-H_normal.jpg', 'profile_banner_url': 'https://pbs.twimg.com/profile_banners/61144740/1497035694', 'profile_link_color': '19CF86', 'profile_sidebar_border_color': '000000', 'profile_sidebar_fill_color': '000000', 'profile_text_color': '000000', 'profile_use_background_image': True, 'has_extended_profile': True, 'default_profile': False, 'default_profile_image': False, 'following': False, 'follow_request_sent': False, 'notifications': False, 'translator_type': 'none'}, 'geo': None, 'coordinates': None, 'place': None, 'contributors': None, 'is_quote_status': False, 'retweet_count': 0, 'favorite_count': 0, 'favorited': False, 'retweeted': False, 'possibly_sensitive': False, 'lang': 'en'}, 'retweet_count': 0, 'favorite_count': 0, 'favorited': False, 'retweeted': False, 'possibly_sensitive': False, 'lang': 'en'}, created_at=datetime.datetime(2017, 7, 7, 13, 38, 49), id=883319395249905665, id_str='883319395249905665', text='Poor ole daily mail love negative story to attack anti Tory or extreme right. Lets hope #Labour pull together to kn… https://t.co/uGY3548tMc', truncated=True, entities={'hashtags': [{'text': 'Labour', 'indices': [88, 95]}], 'symbols': [], 'user_mentions': [], 'urls': [{'url': 'https://t.co/uGY3548tMc', 'expanded_url': 'https://twitter.com/i/web/status/883319395249905665', 'display_url': 'twitter.com/i/web/status/8…', 'indices': [117, 140]}]}, metadata={'iso_language_code': 'en', 'result_type': 'recent'}, source='Twitter Lite', source_url='https://mobile.twitter.com', in_reply_to_status_id=None, in_reply_to_status_id_str=None, in_reply_to_user_id=None, in_reply_to_user_id_str=None, in_reply_to_screen_name=None, author=User(_api=<tweepy.api.API object at 0x11a3ee438>, _json={'id': 3515286077, 'id_str': '3515286077', 'name': 'Muddle brick', 'screen_name': 'Muddlebrick', 'location': 'Devon, England', 'description': 'Positivity cancels negativity?  So we can be encouraged to build a better future.', 'url': None, 'entities': {'description': {'urls': []}}, 'protected': False, 'followers_count': 409, 'friends_count': 1648, 'listed_count': 20, 'created_at': 'Tue Sep 01 18:47:35 +0000 2015', 'favourites_count': 20, 'utc_offset': None, 'time_zone': None, 'geo_enabled': False, 'verified': False, 'statuses_count': 8506, 'lang': 'en-gb', 'contributors_enabled': False, 'is_translator': False, 'is_translation_enabled': False, 'profile_background_color': '000000', 'profile_background_image_url': 'http://abs.twimg.com/images/themes/theme1/bg.png', 'profile_background_image_url_https': 'https://abs.twimg.com/images/themes/theme1/bg.png', 'profile_background_tile': False, 'profile_image_url': 'http://abs.twimg.com/sticky/default_profile_images/default_profile_normal.png', 'profile_image_url_https': 'https://abs.twimg.com/sticky/default_profile_images/default_profile_normal.png', 'profile_link_color': 'E81C4F', 'profile_sidebar_border_color': '000000', 'profile_sidebar_fill_color': '000000', 'profile_text_color': '000000', 'profile_use_background_image': False, 'has_extended_profile': True, 'default_profile': False, 'default_profile_image': True, 'following': False, 'follow_request_sent': False, 'notifications': False, 'translator_type': 'none'}, id=3515286077, id_str='3515286077', name='Muddle brick', screen_name='Muddlebrick', location='Devon, England', description='Positivity cancels negativity?  So we can be encouraged to build a better future.', url=None, entities={'description': {'urls': []}}, protected=False, followers_count=409, friends_count=1648, listed_count=20, created_at=datetime.datetime(2015, 9, 1, 18, 47, 35), favourites_count=20, utc_offset=None, time_zone=None, geo_enabled=False, verified=False, statuses_count=8506, lang='en-gb', contributors_enabled=False, is_translator=False, is_translation_enabled=False, profile_background_color='000000', profile_background_image_url='http://abs.twimg.com/images/themes/theme1/bg.png', profile_background_image_url_https='https://abs.twimg.com/images/themes/theme1/bg.png', profile_background_tile=False, profile_image_url='http://abs.twimg.com/sticky/default_profile_images/default_profile_normal.png', profile_image_url_https='https://abs.twimg.com/sticky/default_profile_images/default_profile_normal.png', profile_link_color='E81C4F', profile_sidebar_border_color='000000', profile_sidebar_fill_color='000000', profile_text_color='000000', profile_use_background_image=False, has_extended_profile=True, default_profile=False, default_profile_image=True, following=False, follow_request_sent=False, notifications=False, translator_type='none'), user=User(_api=<tweepy.api.API object at 0x11a3ee438>, _json={'id': 3515286077, 'id_str': '3515286077', 'name': 'Muddle brick', 'screen_name': 'Muddlebrick', 'location': 'Devon, England', 'description': 'Positivity cancels negativity?  So we can be encouraged to build a better future.', 'url': None, 'entities': {'description': {'urls': []}}, 'protected': False, 'followers_count': 409, 'friends_count': 1648, 'listed_count': 20, 'created_at': 'Tue Sep 01 18:47:35 +0000 2015', 'favourites_count': 20, 'utc_offset': None, 'time_zone': None, 'geo_enabled': False, 'verified': False, 'statuses_count': 8506, 'lang': 'en-gb', 'contributors_enabled': False, 'is_translator': False, 'is_translation_enabled': False, 'profile_background_color': '000000', 'profile_background_image_url': 'http://abs.twimg.com/images/themes/theme1/bg.png', 'profile_background_image_url_https': 'https://abs.twimg.com/images/themes/theme1/bg.png', 'profile_background_tile': False, 'profile_image_url': 'http://abs.twimg.com/sticky/default_profile_images/default_profile_normal.png', 'profile_image_url_https': 'https://abs.twimg.com/sticky/default_profile_images/default_profile_normal.png', 'profile_link_color': 'E81C4F', 'profile_sidebar_border_color': '000000', 'profile_sidebar_fill_color': '000000', 'profile_text_color': '000000', 'profile_use_background_image': False, 'has_extended_profile': True, 'default_profile': False, 'default_profile_image': True, 'following': False, 'follow_request_sent': False, 'notifications': False, 'translator_type': 'none'}, id=3515286077, id_str='3515286077', name='Muddle brick', screen_name='Muddlebrick', location='Devon, England', description='Positivity cancels negativity?  So we can be encouraged to build a better future.', url=None, entities={'description': {'urls': []}}, protected=False, followers_count=409, friends_count=1648, listed_count=20, created_at=datetime.datetime(2015, 9, 1, 18, 47, 35), favourites_count=20, utc_offset=None, time_zone=None, geo_enabled=False, verified=False, statuses_count=8506, lang='en-gb', contributors_enabled=False, is_translator=False, is_translation_enabled=False, profile_background_color='000000', profile_background_image_url='http://abs.twimg.com/images/themes/theme1/bg.png', profile_background_image_url_https='https://abs.twimg.com/images/themes/theme1/bg.png', profile_background_tile=False, profile_image_url='http://abs.twimg.com/sticky/default_profile_images/default_profile_normal.png', profile_image_url_https='https://abs.twimg.com/sticky/default_profile_images/default_profile_normal.png', profile_link_color='E81C4F', profile_sidebar_border_color='000000', profile_sidebar_fill_color='000000', profile_text_color='000000', profile_use_background_image=False, has_extended_profile=True, default_profile=False, default_profile_image=True, following=False, follow_request_sent=False, notifications=False, translator_type='none'), geo=None, coordinates=None, place=None, contributors=None, is_quote_status=True, quoted_status_id=883317889578790913, quoted_status_id_str='883317889578790913', quoted_status={'created_at': 'Fri Jul 07 13:32:50 +0000 2017', 'id': 883317889578790913, 'id_str': '883317889578790913', 'text': \"Hard-left's 'hit list' of Labour MPs critical of Corbyn https://t.co/EixIPJInpB\", 'truncated': False, 'entities': {'hashtags': [], 'symbols': [], 'user_mentions': [], 'urls': [{'url': 'https://t.co/EixIPJInpB', 'expanded_url': 'http://dailym.ai/2uQTxLt', 'display_url': 'dailym.ai/2uQTxLt', 'indices': [56, 79]}]}, 'metadata': {'iso_language_code': 'en', 'result_type': 'recent'}, 'source': '<a href=\"http://twitter.com\" rel=\"nofollow\">Twitter Web Client</a>', 'in_reply_to_status_id': None, 'in_reply_to_status_id_str': None, 'in_reply_to_user_id': None, 'in_reply_to_user_id_str': None, 'in_reply_to_screen_name': None, 'user': {'id': 61144740, 'id_str': '61144740', 'name': 'J-P. Janson De Couët', 'screen_name': 'jpjanson', 'location': 'Sheffield, England', 'description': 'Corbynista in Sheffield. RTs ≠ endorsement.', 'url': 'https://t.co/kZaVFaUTPV', 'entities': {'url': {'urls': [{'url': 'https://t.co/kZaVFaUTPV', 'expanded_url': 'https://youtu.be/gudJgbvBnmo', 'display_url': 'youtu.be/gudJgbvBnmo', 'indices': [0, 23]}]}, 'description': {'urls': []}}, 'protected': False, 'followers_count': 3724, 'friends_count': 2575, 'listed_count': 248, 'created_at': 'Wed Jul 29 08:00:37 +0000 2009', 'favourites_count': 68300, 'utc_offset': -25200, 'time_zone': 'Pacific Time (US & Canada)', 'geo_enabled': True, 'verified': False, 'statuses_count': 393220, 'lang': 'en', 'contributors_enabled': False, 'is_translator': False, 'is_translation_enabled': False, 'profile_background_color': '19CF86', 'profile_background_image_url': 'http://pbs.twimg.com/profile_background_images/725780923086692352/y8cpY4Mn.jpg', 'profile_background_image_url_https': 'https://pbs.twimg.com/profile_background_images/725780923086692352/y8cpY4Mn.jpg', 'profile_background_tile': False, 'profile_image_url': 'http://pbs.twimg.com/profile_images/872128476593172481/1JbJA3-H_normal.jpg', 'profile_image_url_https': 'https://pbs.twimg.com/profile_images/872128476593172481/1JbJA3-H_normal.jpg', 'profile_banner_url': 'https://pbs.twimg.com/profile_banners/61144740/1497035694', 'profile_link_color': '19CF86', 'profile_sidebar_border_color': '000000', 'profile_sidebar_fill_color': '000000', 'profile_text_color': '000000', 'profile_use_background_image': True, 'has_extended_profile': True, 'default_profile': False, 'default_profile_image': False, 'following': False, 'follow_request_sent': False, 'notifications': False, 'translator_type': 'none'}, 'geo': None, 'coordinates': None, 'place': None, 'contributors': None, 'is_quote_status': False, 'retweet_count': 0, 'favorite_count': 0, 'favorited': False, 'retweeted': False, 'possibly_sensitive': False, 'lang': 'en'}, retweet_count=0, favorite_count=0, favorited=False, retweeted=False, possibly_sensitive=False, lang='en')\n"
     ]
    },
    {
     "name": "stdout",
     "output_type": "stream",
     "text": [
      "Rate limit reached. Sleeping for: 842\n"
     ]
    }
   ],
   "source": [
    "api = get_api()\n",
    "\n",
    "hashtag_tweets = get_hashtag_tweets(api, [LABOUR_HASHTAG, TORY_HASHTAG])"
   ]
  },
  {
   "cell_type": "code",
   "execution_count": null,
   "metadata": {},
   "outputs": [],
   "source": [
    "len(hashtag_tweets[TORY_HASHTAG])\n",
    "\n"
   ]
  },
  {
   "cell_type": "code",
   "execution_count": null,
   "metadata": {},
   "outputs": [],
   "source": [
    "hashtag_tweets.keys()"
   ]
  },
  {
   "cell_type": "code",
   "execution_count": null,
   "metadata": {},
   "outputs": [],
   "source": [
    "hashtag_tweets[LABOUR_HASHTAG][1]"
   ]
  },
  {
   "cell_type": "code",
   "execution_count": null,
   "metadata": {
    "collapsed": true
   },
   "outputs": [],
   "source": [
    "#result = hashtag_tweets['#Corbyn'][0]\n",
    "#result._json"
   ]
  },
  {
   "cell_type": "code",
   "execution_count": null,
   "metadata": {
    "collapsed": true
   },
   "outputs": [],
   "source": [
    "#result = hashtag_tweets['#May'][1]\n",
    "#result._json.keys()"
   ]
  },
  {
   "cell_type": "code",
   "execution_count": null,
   "metadata": {
    "collapsed": true
   },
   "outputs": [],
   "source": [
    "#result = hashtag_tweets['#May'][4]\n",
    "#result._json['user']\n"
   ]
  },
  {
   "cell_type": "code",
   "execution_count": null,
   "metadata": {
    "collapsed": true
   },
   "outputs": [],
   "source": [
    "\n",
    "\n"
   ]
  },
  {
   "cell_type": "code",
   "execution_count": null,
   "metadata": {
    "collapsed": true
   },
   "outputs": [],
   "source": [
    "raw_data_L = {'text': [], 'user': [], 'followers_count': [], 'friends_count': [], 'retweet_count': [], 'favorite_count':[]}\n",
    "\n",
    "for tweet in hashtag_tweets[LABOUR_HASHTAG]:\n",
    "    raw_data_L['retweet_count'].append(tweet._json['retweet_count'])\n",
    "    raw_data_L['favorite_count'].append(tweet._json['favorite_count'])\n",
    "    raw_data_L['user'].append(tweet._json['user']['name'])\n",
    "    raw_data_L['followers_count'].append(tweet._json['user']['followers_count'])\n",
    "    raw_data_L['friends_count'].append(tweet._json['user']['friends_count'])\n",
    "    raw_data_L['text'].append(tweet._json['text'])\n",
    "    \n",
    "\n",
    "\n",
    "# index=['User {0}'.format(i) for i in range(1000)])"
   ]
  },
  {
   "cell_type": "code",
   "execution_count": null,
   "metadata": {
    "collapsed": true
   },
   "outputs": [],
   "source": [
    "raw_data_T = {'text': [], 'user': [], 'followers_count': [], 'friends_count': [], 'retweet_count': [], 'favorite_count':[]}\n",
    "\n",
    "for tweet in hashtag_tweets[TORY_HASHTAG]:\n",
    "    raw_data_T['retweet_count'].append(tweet._json['retweet_count'])\n",
    "    raw_data_T['favorite_count'].append(tweet._json['favorite_count'])\n",
    "    raw_data_T['user'].append(tweet._json['user']['name'])\n",
    "    raw_data_T['followers_count'].append(tweet._json['user']['followers_count'])\n",
    "    raw_data_T['friends_count'].append(tweet._json['user']['friends_count'])\n",
    "    raw_data_T['text'].append(tweet._json['text'])"
   ]
  },
  {
   "cell_type": "code",
   "execution_count": null,
   "metadata": {
    "collapsed": true
   },
   "outputs": [],
   "source": [
    "labour_df = pd.DataFrame(raw_data_L, columns=['user', 'followers_count', 'friends_count', 'text', 'favorite_count', 'retweet_count']) "
   ]
  },
  {
   "cell_type": "code",
   "execution_count": null,
   "metadata": {
    "collapsed": true
   },
   "outputs": [],
   "source": [
    "tories_df = pd.DataFrame(raw_data_T, columns=['user', 'followers_count', 'friends_count', 'text', 'favorite_count', 'retweet_count']) \n"
   ]
  },
  {
   "cell_type": "code",
   "execution_count": null,
   "metadata": {},
   "outputs": [],
   "source": [
    "tories_df.head()"
   ]
  },
  {
   "cell_type": "code",
   "execution_count": null,
   "metadata": {},
   "outputs": [],
   "source": [
    "labour_df.head() "
   ]
  },
  {
   "cell_type": "code",
   "execution_count": null,
   "metadata": {},
   "outputs": [],
   "source": [
    "tories_df.sort_values('retweet_count', ascending=False)"
   ]
  },
  {
   "cell_type": "code",
   "execution_count": null,
   "metadata": {},
   "outputs": [],
   "source": [
    "print ('More retweet Of Tories ++ ' + tories_df['text'][1055])"
   ]
  },
  {
   "cell_type": "code",
   "execution_count": null,
   "metadata": {},
   "outputs": [],
   "source": [
    "labour_df.sort_values('retweet_count', ascending=False)"
   ]
  },
  {
   "cell_type": "code",
   "execution_count": null,
   "metadata": {},
   "outputs": [],
   "source": [
    "print ('More retweet Of Labour ++ ' + labour_df['text'][230])"
   ]
  },
  {
   "cell_type": "code",
   "execution_count": null,
   "metadata": {},
   "outputs": [],
   "source": [
    "labour_df.sort_values('favorite_count', ascending=False)\n",
    "\n"
   ]
  },
  {
   "cell_type": "code",
   "execution_count": null,
   "metadata": {},
   "outputs": [],
   "source": [
    "print ('More favorite tweet Of Labour ++ ' + labour_df['text'][1192])\n",
    "\n"
   ]
  },
  {
   "cell_type": "code",
   "execution_count": null,
   "metadata": {},
   "outputs": [],
   "source": [
    "tories_df.sort_values('favorite_count', ascending=False)\n",
    "\n",
    "\n"
   ]
  },
  {
   "cell_type": "code",
   "execution_count": null,
   "metadata": {},
   "outputs": [],
   "source": [
    "print ('More favorite tweet Of Tories ++ ' + tories_df['text'][462])"
   ]
  },
  {
   "cell_type": "code",
   "execution_count": null,
   "metadata": {},
   "outputs": [],
   "source": [
    "print (tories_df['followers_count'].mean())\n",
    "print (tories_df['friends_count'].mean())\n",
    "print (tories_df['favorite_count'].mean())\n",
    "print (tories_df['retweet_count'].mean())\n"
   ]
  },
  {
   "cell_type": "code",
   "execution_count": null,
   "metadata": {},
   "outputs": [],
   "source": [
    "print (labour_df['followers_count'].mean())\n",
    "print (labour_df['friends_count'].mean())\n",
    "print (labour_df['favorite_count'].mean())\n",
    "print (labour_df['retweet_count'].mean())\n",
    "\n"
   ]
  },
  {
   "cell_type": "code",
   "execution_count": null,
   "metadata": {
    "collapsed": true
   },
   "outputs": [],
   "source": [
    "#may_df['followers_count'].mean() - Cor_df['followers_count'].mean()"
   ]
  },
  {
   "cell_type": "code",
   "execution_count": null,
   "metadata": {
    "collapsed": true
   },
   "outputs": [],
   "source": [
    "#may_df['favorite_count'].mean() - Cor_df['favorite_count'].mean()"
   ]
  },
  {
   "cell_type": "code",
   "execution_count": null,
   "metadata": {
    "collapsed": true
   },
   "outputs": [],
   "source": [
    "#Cor_df['retweet_count'].quantile([.25, .5, .75])"
   ]
  },
  {
   "cell_type": "code",
   "execution_count": null,
   "metadata": {
    "collapsed": true
   },
   "outputs": [],
   "source": [
    "#may_df['retweet_count'].quantile([.25, .5, .75])"
   ]
  },
  {
   "cell_type": "code",
   "execution_count": null,
   "metadata": {
    "collapsed": true
   },
   "outputs": [],
   "source": [
    "#surveys_by_sex_df = surveys_df.groupby('sex')\n",
    "surveys_by_sex_df"
   ]
  },
  {
   "cell_type": "code",
   "execution_count": null,
   "metadata": {
    "collapsed": true
   },
   "outputs": [],
   "source": [
    "#surveys_by_sex_df['hindfoot_length'].describe()"
   ]
  },
  {
   "cell_type": "code",
   "execution_count": null,
   "metadata": {
    "collapsed": true
   },
   "outputs": [],
   "source": [
    "text_tories = \"\"\n",
    "for text in tories_df['text']:\n",
    "    text_tories += \" \" + text\n",
    "\n",
    "text_tories = text_tories.lower()"
   ]
  },
  {
   "cell_type": "code",
   "execution_count": null,
   "metadata": {
    "collapsed": true
   },
   "outputs": [],
   "source": [
    "text_labour = \"\"\n",
    "for text in labour_df['text']:\n",
    "    text_labour += \" \" + text\n",
    "\n",
    "text_labour = text_labour.lower()"
   ]
  },
  {
   "cell_type": "code",
   "execution_count": null,
   "metadata": {
    "collapsed": true
   },
   "outputs": [],
   "source": [
    "#text_con[:5000] "
   ]
  },
  {
   "cell_type": "code",
   "execution_count": null,
   "metadata": {
    "collapsed": true
   },
   "outputs": [],
   "source": [
    "#wordcloud = WordCloud().generate(text_con)"
   ]
  },
  {
   "cell_type": "code",
   "execution_count": null,
   "metadata": {
    "collapsed": true
   },
   "outputs": [],
   "source": [
    "#plt.imshow(wordcloud, interpolation='bilinear')\n",
    "#plt.axis('off')"
   ]
  },
  {
   "cell_type": "code",
   "execution_count": null,
   "metadata": {
    "collapsed": true
   },
   "outputs": [],
   "source": [
    "#plt.show()"
   ]
  },
  {
   "cell_type": "code",
   "execution_count": null,
   "metadata": {},
   "outputs": [],
   "source": [
    "my_list_labour = text_labour.split()\n",
    "\n",
    "\n",
    "counter = Counter(my_list_labour)\n",
    "print(counter)\n"
   ]
  },
  {
   "cell_type": "code",
   "execution_count": null,
   "metadata": {},
   "outputs": [],
   "source": [
    "my_list_tories = text_tories.split()\n",
    "\n",
    "\n",
    "counter = Counter(my_list_tories)\n",
    "print(counter)"
   ]
  },
  {
   "cell_type": "code",
   "execution_count": null,
   "metadata": {
    "collapsed": true
   },
   "outputs": [],
   "source": [
    "with open('stopwords.txt') as f:\n",
    "    stop_words = []\n",
    "    for line in f:\n",
    "        stop_words.append(line.rstrip())"
   ]
  },
  {
   "cell_type": "code",
   "execution_count": null,
   "metadata": {},
   "outputs": [],
   "source": [
    "filter_words = {'https://t.co/xOSOYNwTw4', 'https','rt', 'are', 'on', 'by', 'The', 'if', '&amp;', 'i', 'at', 'has', 'will','your', 'it', 'that', 'not', 'just', 'https:/…', 'achieved', 'one', 'as', \"it's\", 'do', 'Enough', 'what', ':https://t…', 'message', 'https://t.co/ZDgQnY8lOP'} \n",
    "\n",
    "filter_words = filter_words | set(stop_words)\n",
    "filter_words"
   ]
  },
  {
   "cell_type": "code",
   "execution_count": null,
   "metadata": {},
   "outputs": [],
   "source": [
    "filtered_list_labour = []\n",
    "for word in my_list_labour:\n",
    "    if word not in filter_words and not word.startswith('https') and len(word) >= 2:\n",
    "        filtered_list_labour.append(word)\n",
    "        \n",
    "print(filtered_list_labour)        \n",
    "\n",
    "\n",
    "        "
   ]
  },
  {
   "cell_type": "code",
   "execution_count": null,
   "metadata": {},
   "outputs": [],
   "source": [
    "filtered_list_tories = []\n",
    "for word in my_list_tories:\n",
    "    if word not in filter_words and not word.startswith('https') and len(word) >= 2:\n",
    "        filtered_list_tories.append(word)\n",
    "        \n",
    "print(filtered_list_tories)        \n",
    "\n",
    "\n",
    "        "
   ]
  },
  {
   "cell_type": "code",
   "execution_count": null,
   "metadata": {},
   "outputs": [],
   "source": [
    "from collections import Counter\n",
    "counter_labour = Counter(filtered_list_labour)\n",
    "\n",
    "print(counter_labour)\n",
    "\n"
   ]
  },
  {
   "cell_type": "code",
   "execution_count": null,
   "metadata": {},
   "outputs": [],
   "source": [
    "from collections import Counter\n",
    "counter_tory = Counter(filtered_list_tories)\n",
    "\n",
    "print(counter_tory)\n",
    "\n",
    "\n"
   ]
  },
  {
   "cell_type": "code",
   "execution_count": null,
   "metadata": {
    "collapsed": true
   },
   "outputs": [],
   "source": [
    "#strig_filtered = \" \".join(filtered_list)\n",
    "\n",
    "#wordcloud = WordCloud().generate(strig_filtered)\n",
    "#plt.clf()\n",
    "#plt.imshow(wordcloud, interpolation='bilinear')\n",
    "#plt.axis('off')\n",
    "\n",
    "#plt.show()"
   ]
  },
  {
   "cell_type": "code",
   "execution_count": null,
   "metadata": {
    "collapsed": true
   },
   "outputs": [],
   "source": [
    "import numpy as np\n",
    "\n",
    "from sklearn.svm import LinearSVC\n",
    "from sklearn.feature_extraction.text import CountVectorizer\n",
    "from sklearn.metrics import classification_report, confusion_matrix"
   ]
  },
  {
   "cell_type": "code",
   "execution_count": null,
   "metadata": {
    "collapsed": true
   },
   "outputs": [],
   "source": [
    "tory_texts = list(tories_df['text'])"
   ]
  },
  {
   "cell_type": "code",
   "execution_count": null,
   "metadata": {},
   "outputs": [],
   "source": [
    "tory_texts[3]"
   ]
  },
  {
   "cell_type": "code",
   "execution_count": null,
   "metadata": {
    "collapsed": true
   },
   "outputs": [],
   "source": [
    "labour_texts = list(labour_df['text'])"
   ]
  },
  {
   "cell_type": "code",
   "execution_count": null,
   "metadata": {},
   "outputs": [],
   "source": [
    "labour_texts[1]"
   ]
  },
  {
   "cell_type": "code",
   "execution_count": null,
   "metadata": {
    "collapsed": true
   },
   "outputs": [],
   "source": [
    "tory_vocab = []\n",
    "for word, count in counter_tory.most_common(100):\n",
    "    tory_vocab.append(word)\n",
    "\n",
    "labour_vocab = []\n",
    "for word, count in counter_labour.most_common(100):\n",
    "    labour_vocab.append(word)\n",
    "    \n",
    "vocab = tory_vocab + labour_vocab\n",
    "\n",
    "vocab = list(set(vocab))\n",
    "    \n",
    "count_vectorizer = CountVectorizer(vocabulary=vocab)"
   ]
  },
  {
   "cell_type": "code",
   "execution_count": null,
   "metadata": {
    "collapsed": true
   },
   "outputs": [],
   "source": [
    "td_matrix = count_vectorizer.fit_transform(labour_texts + tory_texts)\n",
    "\n"
   ]
  },
  {
   "cell_type": "code",
   "execution_count": null,
   "metadata": {},
   "outputs": [],
   "source": [
    "count_vectorizer.vocabulary"
   ]
  },
  {
   "cell_type": "code",
   "execution_count": null,
   "metadata": {
    "collapsed": true
   },
   "outputs": [],
   "source": [
    "svc = LinearSVC()"
   ]
  },
  {
   "cell_type": "code",
   "execution_count": null,
   "metadata": {},
   "outputs": [],
   "source": [
    "svc.fit_transform(td_matrix, [LABOUR_HASHTAG] * len(labour_texts) + [TORY_HASHTAG] * len(tory_texts))"
   ]
  },
  {
   "cell_type": "code",
   "execution_count": null,
   "metadata": {},
   "outputs": [],
   "source": [
    "svc.predict(td_matrix[1500])"
   ]
  },
  {
   "cell_type": "code",
   "execution_count": null,
   "metadata": {},
   "outputs": [],
   "source": [
    "[\"hello\"] * 5 + [\"goodbye\"] * 3"
   ]
  },
  {
   "cell_type": "code",
   "execution_count": null,
   "metadata": {},
   "outputs": [],
   "source": [
    "[LABOUR_HASHTAG] * 3 + [TORY_HASHTAG] * 5"
   ]
  },
  {
   "cell_type": "code",
   "execution_count": null,
   "metadata": {
    "collapsed": true
   },
   "outputs": [],
   "source": []
  }
 ],
 "metadata": {
  "kernelspec": {
   "display_name": "Python 3",
   "language": "python",
   "name": "python3"
  },
  "language_info": {
   "codemirror_mode": {
    "name": "ipython",
    "version": 3
   },
   "file_extension": ".py",
   "mimetype": "text/x-python",
   "name": "python",
   "nbconvert_exporter": "python",
   "pygments_lexer": "ipython3",
   "version": "3.6.1"
  }
 },
 "nbformat": 4,
 "nbformat_minor": 2
}
